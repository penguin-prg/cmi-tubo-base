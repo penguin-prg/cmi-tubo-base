{
 "cells": [
  {
   "cell_type": "code",
   "execution_count": 9,
   "metadata": {},
   "outputs": [],
   "source": [
    "import numpy as np\n",
    "import pandas as pd\n",
    "\n",
    "import sys\n",
    "import os\n",
    "\n",
    "sys.path.append(\"/kaggle\")\n",
    "from src.utils.post_process import post_process_for_seg\n",
    "from src.utils.metrics import event_detection_ap"
   ]
  },
  {
   "cell_type": "code",
   "execution_count": 2,
   "metadata": {},
   "outputs": [],
   "source": [
    "keys = np.load(\"/kaggle/output/train/exp007/single/keys.npy\")\n",
    "labels = np.load(\"/kaggle/output/train/exp007/single/labels.npy\")\n",
    "preds = np.load(\"/kaggle/output/train/exp007/single/preds.npy\")"
   ]
  },
  {
   "cell_type": "code",
   "execution_count": 5,
   "metadata": {},
   "outputs": [],
   "source": [
    "val_pred_df, oof_df = post_process_for_seg(\n",
    "    keys=keys,\n",
    "    preds=preds[:, :, [1, 2]],\n",
    "    score_th=0.02,\n",
    "    distance=10,\n",
    "    ret_oof_df=True,\n",
    ")"
   ]
  },
  {
   "cell_type": "code",
   "execution_count": 8,
   "metadata": {},
   "outputs": [],
   "source": [
    "labels = pd.read_csv(\"/kaggle/data/train_events.csv\").dropna()\n",
    "labels = labels[labels[\"series_id\"].isin(oof_df[\"series_id\"].unique())]"
   ]
  },
  {
   "cell_type": "code",
   "execution_count": 12,
   "metadata": {},
   "outputs": [
    {
     "data": {
      "text/plain": [
       "0.7462118623332705"
      ]
     },
     "execution_count": 12,
     "metadata": {},
     "output_type": "execute_result"
    }
   ],
   "source": [
    "score = event_detection_ap(labels, val_pred_df.to_pandas())\n",
    "score"
   ]
  },
  {
   "cell_type": "code",
   "execution_count": 14,
   "metadata": {},
   "outputs": [
    {
     "data": {
      "text/plain": [
       "616943"
      ]
     },
     "execution_count": 14,
     "metadata": {},
     "output_type": "execute_result"
    },
    {
     "data": {
      "image/png": "[encoded data removed]",
      "text/plain": [
       "<Figure size 640x480 with 1 Axes>"
      ]
     },
     "metadata": {},
     "output_type": "display_data"
    }
   ],
   "source": [
    "dfs = []\n",
    "df = oof_df[[\"series_id\", \"step\", \"wakeup_oof\"]]\n",
    "df = df[df[\"wakeup_oof\"] > 0.02]\n",
    "df[\"event\"] = \"wakeup\"\n",
    "df[\"score\"] = df[\"wakeup_oof\"]\n",
    "dfs.append(df[['series_id', 'step', 'event', 'score']])\n",
    "\n",
    "df = oof_df[[\"series_id\", \"step\", \"onset_oof\"]]\n",
    "df = df[df[\"onset_oof\"] > 0.02]\n",
    "df[\"event\"] = \"onset\"\n",
    "df[\"score\"] = df[\"onset_oof\"]\n",
    "dfs.append(df[['series_id', 'step', 'event', 'score']])\n",
    "\n",
    "train = pd.concat(dfs).reset_index(drop=True)\n",
    "train[\"step\"] = train[\"step\"].astype(int)\n",
    "train[\"score\"] *= 10\n",
    "train[\"score\"].hist()\n",
    "len(train)"
   ]
  },
  {
   "cell_type": "code",
   "execution_count": 23,
   "metadata": {},
   "outputs": [],
   "source": [
    "from tqdm import tqdm\n",
    "import pandas as pd\n",
    "import numpy as np\n",
    "import os\n",
    "import sys\n",
    "import yaml\n",
    "import matplotlib.pyplot as plt\n",
    "import gc\n",
    "from typing import Optional\n",
    "from scipy.interpolate import interp1d\n",
    "\n",
    "\n",
    "RANGE = 917\n",
    "COEFF = 11\n",
    "EXP = 5\n",
    "\n",
    "def dynamic_range_nms(df: pd.DataFrame) -> pd.DataFrame:\n",
    "    \"\"\"Dynamic-Range NMS\n",
    "\n",
    "    Parameters\n",
    "    ----------\n",
    "    df : pd.DataFrame\n",
    "        単一のseries_idに対する提出形式\n",
    "    \"\"\"\n",
    "    df = df.sort_values(\"score\", ascending=False).reset_index(drop=True)\n",
    "    used = []\n",
    "    used_scores = []\n",
    "    reduce_rate = np.ones(df[\"step\"].max() + 1000)\n",
    "    for _ in range(min(len(df), 1000)):\n",
    "        df[\"reduced_score\"] = df[\"score\"] / reduce_rate[df[\"step\"]]\n",
    "        best_score = df[\"reduced_score\"].max()\n",
    "        best_idx = df[\"reduced_score\"].idxmax()\n",
    "        best_step = df.loc[best_idx, \"step\"]\n",
    "        used.append(best_idx)\n",
    "        used_scores.append(best_score)\n",
    "\n",
    "        for r in range(1, int(RANGE)):\n",
    "            reduce = ((RANGE - r) / RANGE) ** EXP * COEFF\n",
    "            reduce_rate[best_step + r] += reduce\n",
    "            if best_step - r >= 0:\n",
    "                reduce_rate[best_step - r] += reduce\n",
    "        reduce_rate[best_step] = 1e10\n",
    "    df = df.iloc[used].copy()\n",
    "    df[\"reduced_score\"] = used_scores\n",
    "    return df\n"
   ]
  },
  {
   "cell_type": "code",
   "execution_count": 25,
   "metadata": {},
   "outputs": [
    {
     "name": "stderr",
     "output_type": "stream",
     "text": [
      "\u001b[32m[I 2023-11-04 13:45:08,659]\u001b[0m A new study created in memory with name: no-name-6234646d-8d5f-4384-b601-a7d287a0fa62\u001b[0m\n",
      "\u001b[32m[I 2023-11-04 13:45:14,113]\u001b[0m Trial 0 finished with value: 0.7608372889214634 and parameters: {'RANGE': 261, 'COEFF': 28, 'EXP': 5}. Best is trial 0 with value: 0.7608372889214634.\u001b[0m\n",
      "\u001b[32m[I 2023-11-04 13:45:20,615]\u001b[0m Trial 1 finished with value: 0.7425796257336146 and parameters: {'RANGE': 917, 'COEFF': 11, 'EXP': 5}. Best is trial 0 with value: 0.7608372889214634.\u001b[0m\n",
      "\u001b[32m[I 2023-11-04 13:45:26,959]\u001b[0m Trial 2 finished with value: 0.7406614225190741 and parameters: {'RANGE': 695, 'COEFF': 14, 'EXP': 3}. Best is trial 0 with value: 0.7608372889214634.\u001b[0m\n",
      "\u001b[32m[I 2023-11-04 13:45:32,511]\u001b[0m Trial 3 finished with value: 0.7465012848805412 and parameters: {'RANGE': 360, 'COEFF': 10, 'EXP': 2}. Best is trial 0 with value: 0.7608372889214634.\u001b[0m\n",
      "\u001b[32m[I 2023-11-04 13:45:38,647]\u001b[0m Trial 4 finished with value: 0.7422401606419257 and parameters: {'RANGE': 638, 'COEFF': 17, 'EXP': 3}. Best is trial 0 with value: 0.7608372889214634.\u001b[0m\n",
      "\u001b[32m[I 2023-11-04 13:45:44,580]\u001b[0m Trial 5 finished with value: 0.7400166381782481 and parameters: {'RANGE': 570, 'COEFF': 5, 'EXP': 3}. Best is trial 0 with value: 0.7608372889214634.\u001b[0m\n",
      "\u001b[32m[I 2023-11-04 13:45:50,110]\u001b[0m Trial 6 finished with value: 0.7516416152974483 and parameters: {'RANGE': 198, 'COEFF': 4, 'EXP': 4}. Best is trial 0 with value: 0.7608372889214634.\u001b[0m\n",
      "\u001b[32m[I 2023-11-04 13:45:55,627]\u001b[0m Trial 7 finished with value: 0.7553828011116113 and parameters: {'RANGE': 370, 'COEFF': 23, 'EXP': 4}. Best is trial 0 with value: 0.7608372889214634.\u001b[0m\n",
      "\u001b[32m[I 2023-11-04 13:46:01,392]\u001b[0m Trial 8 finished with value: 0.7473067708865999 and parameters: {'RANGE': 485, 'COEFF': 20, 'EXP': 3}. Best is trial 0 with value: 0.7608372889214634.\u001b[0m\n",
      "\u001b[32m[I 2023-11-04 13:46:07,113]\u001b[0m Trial 9 finished with value: 0.7388125830432026 and parameters: {'RANGE': 392, 'COEFF': 12, 'EXP': 1}. Best is trial 0 with value: 0.7608372889214634.\u001b[0m\n",
      "\u001b[32m[I 2023-11-04 13:46:12,101]\u001b[0m Trial 10 finished with value: 0.7558706766944236 and parameters: {'RANGE': 108, 'COEFF': 30, 'EXP': 8}. Best is trial 0 with value: 0.7608372889214634.\u001b[0m\n",
      "\u001b[32m[I 2023-11-04 13:46:17,349]\u001b[0m Trial 11 finished with value: 0.7598931374463003 and parameters: {'RANGE': 158, 'COEFF': 30, 'EXP': 8}. Best is trial 0 with value: 0.7608372889214634.\u001b[0m\n",
      "\u001b[32m[I 2023-11-04 13:46:22,558]\u001b[0m Trial 12 finished with value: 0.7609663433511604 and parameters: {'RANGE': 203, 'COEFF': 30, 'EXP': 9}. Best is trial 12 with value: 0.7609663433511604.\u001b[0m\n",
      "\u001b[32m[I 2023-11-04 13:46:28,043]\u001b[0m Trial 13 finished with value: 0.7616360376041222 and parameters: {'RANGE': 284, 'COEFF': 26, 'EXP': 10}. Best is trial 13 with value: 0.7616360376041222.\u001b[0m\n",
      "\u001b[32m[I 2023-11-04 13:46:33,382]\u001b[0m Trial 14 finished with value: 0.7614462626050816 and parameters: {'RANGE': 272, 'COEFF': 24, 'EXP': 10}. Best is trial 13 with value: 0.7616360376041222.\u001b[0m\n",
      "\u001b[32m[I 2023-11-04 13:46:39,765]\u001b[0m Trial 15 finished with value: 0.7546381790063987 and parameters: {'RANGE': 862, 'COEFF': 24, 'EXP': 10}. Best is trial 13 with value: 0.7616360376041222.\u001b[0m\n",
      "\u001b[32m[I 2023-11-04 13:46:45,335]\u001b[0m Trial 16 finished with value: 0.7613562447918476 and parameters: {'RANGE': 305, 'COEFF': 25, 'EXP': 7}. Best is trial 13 with value: 0.7616360376041222.\u001b[0m\n",
      "\u001b[32m[I 2023-11-04 13:46:51,081]\u001b[0m Trial 17 finished with value: 0.760604109286283 and parameters: {'RANGE': 493, 'COEFF': 19, 'EXP': 10}. Best is trial 13 with value: 0.7616360376041222.\u001b[0m\n",
      "\u001b[32m[I 2023-11-04 13:46:56,870]\u001b[0m Trial 18 finished with value: 0.7591226126315147 and parameters: {'RANGE': 431, 'COEFF': 21, 'EXP': 7}. Best is trial 13 with value: 0.7616360376041222.\u001b[0m\n",
      "\u001b[32m[I 2023-11-04 13:47:03,096]\u001b[0m Trial 19 finished with value: 0.7550141237711375 and parameters: {'RANGE': 760, 'COEFF': 26, 'EXP': 9}. Best is trial 13 with value: 0.7616360376041222.\u001b[0m\n",
      "\u001b[32m[I 2023-11-04 13:47:08,658]\u001b[0m Trial 20 finished with value: 0.7609895111798735 and parameters: {'RANGE': 275, 'COEFF': 17, 'EXP': 7}. Best is trial 13 with value: 0.7616360376041222.\u001b[0m\n",
      "\u001b[32m[I 2023-11-04 13:47:14,051]\u001b[0m Trial 21 finished with value: 0.761400476938147 and parameters: {'RANGE': 278, 'COEFF': 25, 'EXP': 7}. Best is trial 13 with value: 0.7616360376041222.\u001b[0m\n",
      "\u001b[32m[I 2023-11-04 13:47:19,637]\u001b[0m Trial 22 finished with value: 0.7617903934540191 and parameters: {'RANGE': 304, 'COEFF': 27, 'EXP': 9}. Best is trial 22 with value: 0.7617903934540191.\u001b[0m\n",
      "\u001b[32m[I 2023-11-04 13:47:24,769]\u001b[0m Trial 23 finished with value: 0.7570343694030564 and parameters: {'RANGE': 142, 'COEFF': 27, 'EXP': 10}. Best is trial 22 with value: 0.7617903934540191.\u001b[0m\n",
      "\u001b[32m[I 2023-11-04 13:47:30,183]\u001b[0m Trial 24 finished with value: 0.7615634099372259 and parameters: {'RANGE': 321, 'COEFF': 22, 'EXP': 9}. Best is trial 22 with value: 0.7617903934540191.\u001b[0m\n",
      "\u001b[32m[I 2023-11-04 13:47:35,994]\u001b[0m Trial 25 finished with value: 0.760283806752967 and parameters: {'RANGE': 471, 'COEFF': 22, 'EXP': 9}. Best is trial 22 with value: 0.7617903934540191.\u001b[0m\n",
      "\u001b[32m[I 2023-11-04 13:47:41,928]\u001b[0m Trial 26 finished with value: 0.711193378872089 and parameters: {'RANGE': 570, 'COEFF': 1, 'EXP': 8}. Best is trial 22 with value: 0.7617903934540191.\u001b[0m\n",
      "\u001b[32m[I 2023-11-04 13:47:47,548]\u001b[0m Trial 27 finished with value: 0.7617476422660223 and parameters: {'RANGE': 318, 'COEFF': 28, 'EXP': 9}. Best is trial 22 with value: 0.7617903934540191.\u001b[0m\n",
      "\u001b[32m[I 2023-11-04 13:47:52,796]\u001b[0m Trial 28 finished with value: 0.7615836517483902 and parameters: {'RANGE': 213, 'COEFF': 28, 'EXP': 6}. Best is trial 22 with value: 0.7617903934540191.\u001b[0m\n",
      "\u001b[32m[I 2023-11-04 13:47:58,409]\u001b[0m Trial 29 finished with value: 0.7601818631682058 and parameters: {'RANGE': 337, 'COEFF': 28, 'EXP': 6}. Best is trial 22 with value: 0.7617903934540191.\u001b[0m\n",
      "\u001b[32m[I 2023-11-04 13:48:04,018]\u001b[0m Trial 30 finished with value: 0.7602563450935147 and parameters: {'RANGE': 426, 'COEFF': 27, 'EXP': 8}. Best is trial 22 with value: 0.7617903934540191.\u001b[0m\n",
      "\u001b[32m[I 2023-11-04 13:48:09,412]\u001b[0m Trial 31 finished with value: 0.7616460642633829 and parameters: {'RANGE': 211, 'COEFF': 28, 'EXP': 6}. Best is trial 22 with value: 0.7617903934540191.\u001b[0m\n",
      "\u001b[32m[I 2023-11-04 13:48:14,785]\u001b[0m Trial 32 finished with value: 0.761368817070124 and parameters: {'RANGE': 228, 'COEFF': 29, 'EXP': 9}. Best is trial 22 with value: 0.7617903934540191.\u001b[0m\n",
      "\u001b[32m[I 2023-11-04 13:48:20,114]\u001b[0m Trial 33 finished with value: 0.7610925523508445 and parameters: {'RANGE': 160, 'COEFF': 26, 'EXP': 5}. Best is trial 22 with value: 0.7617903934540191.\u001b[0m\n",
      "\u001b[32m[I 2023-11-04 13:48:25,176]\u001b[0m Trial 34 finished with value: 0.7511685371582588 and parameters: {'RANGE': 101, 'COEFF': 28, 'EXP': 10}. Best is trial 22 with value: 0.7617903934540191.\u001b[0m\n",
      "\u001b[32m[I 2023-11-04 13:48:30,744]\u001b[0m Trial 35 finished with value: 0.7590572689554552 and parameters: {'RANGE': 379, 'COEFF': 19, 'EXP': 6}. Best is trial 22 with value: 0.7617903934540191.\u001b[0m\n",
      "\u001b[32m[I 2023-11-04 13:48:36,229]\u001b[0m Trial 36 finished with value: 0.7616328302411379 and parameters: {'RANGE': 251, 'COEFF': 26, 'EXP': 8}. Best is trial 22 with value: 0.7617903934540191.\u001b[0m\n",
      "\u001b[32m[I 2023-11-04 13:48:41,609]\u001b[0m Trial 37 finished with value: 0.7615671771946195 and parameters: {'RANGE': 311, 'COEFF': 23, 'EXP': 9}. Best is trial 22 with value: 0.7617903934540191.\u001b[0m\n",
      "\u001b[32m[I 2023-11-04 13:48:47,747]\u001b[0m Trial 38 finished with value: 0.7468591415339759 and parameters: {'RANGE': 618, 'COEFF': 14, 'EXP': 4}. Best is trial 22 with value: 0.7617903934540191.\u001b[0m\n",
      "\u001b[32m[I 2023-11-04 13:48:52,874]\u001b[0m Trial 39 finished with value: 0.7554154065676102 and parameters: {'RANGE': 180, 'COEFF': 10, 'EXP': 10}. Best is trial 22 with value: 0.7617903934540191.\u001b[0m\n",
      "\u001b[32m[I 2023-11-04 13:48:58,758]\u001b[0m Trial 40 finished with value: 0.7504661074912284 and parameters: {'RANGE': 523, 'COEFF': 7, 'EXP': 5}. Best is trial 22 with value: 0.7617903934540191.\u001b[0m\n",
      "\u001b[32m[I 2023-11-04 13:49:04,023]\u001b[0m Trial 41 finished with value: 0.7615879175632914 and parameters: {'RANGE': 245, 'COEFF': 26, 'EXP': 8}. Best is trial 22 with value: 0.7617903934540191.\u001b[0m\n",
      "\u001b[32m[I 2023-11-04 13:49:09,607]\u001b[0m Trial 42 finished with value: 0.7611033877075766 and parameters: {'RANGE': 421, 'COEFF': 29, 'EXP': 9}. Best is trial 22 with value: 0.7617903934540191.\u001b[0m\n",
      "\u001b[32m[I 2023-11-04 13:49:16,314]\u001b[0m Trial 43 finished with value: 0.7493704993911282 and parameters: {'RANGE': 977, 'COEFF': 24, 'EXP': 8}. Best is trial 22 with value: 0.7617903934540191.\u001b[0m\n",
      "\u001b[32m[I 2023-11-04 13:49:21,595]\u001b[0m Trial 44 finished with value: 0.7616042738900907 and parameters: {'RANGE': 247, 'COEFF': 27, 'EXP': 7}. Best is trial 22 with value: 0.7617903934540191.\u001b[0m\n",
      "\u001b[32m[I 2023-11-04 13:49:27,210]\u001b[0m Trial 45 finished with value: 0.7613328195157347 and parameters: {'RANGE': 351, 'COEFF': 30, 'EXP': 8}. Best is trial 22 with value: 0.7617903934540191.\u001b[0m\n",
      "\u001b[32m[I 2023-11-04 13:49:32,274]\u001b[0m Trial 46 finished with value: 0.7568502775935626 and parameters: {'RANGE': 131, 'COEFF': 25, 'EXP': 9}. Best is trial 22 with value: 0.7617903934540191.\u001b[0m\n",
      "\u001b[32m[I 2023-11-04 13:49:37,674]\u001b[0m Trial 47 finished with value: 0.7530356177403635 and parameters: {'RANGE': 193, 'COEFF': 29, 'EXP': 1}. Best is trial 22 with value: 0.7617903934540191.\u001b[0m\n",
      "\u001b[32m[I 2023-11-04 13:49:43,030]\u001b[0m Trial 48 finished with value: 0.761524901783772 and parameters: {'RANGE': 285, 'COEFF': 23, 'EXP': 10}. Best is trial 22 with value: 0.7617903934540191.\u001b[0m\n",
      "\u001b[32m[I 2023-11-04 13:49:48,712]\u001b[0m Trial 49 finished with value: 0.7550133009133515 and parameters: {'RANGE': 385, 'COEFF': 17, 'EXP': 4}. Best is trial 22 with value: 0.7617903934540191.\u001b[0m\n",
      "\u001b[32m[I 2023-11-04 13:49:54,004]\u001b[0m Trial 50 finished with value: 0.7613400145046685 and parameters: {'RANGE': 246, 'COEFF': 21, 'EXP': 8}. Best is trial 22 with value: 0.7617903934540191.\u001b[0m\n",
      "\u001b[32m[I 2023-11-04 13:49:59,281]\u001b[0m Trial 51 finished with value: 0.76173631042871 and parameters: {'RANGE': 237, 'COEFF': 27, 'EXP': 7}. Best is trial 22 with value: 0.7617903934540191.\u001b[0m\n",
      "\u001b[32m[I 2023-11-04 13:50:04,661]\u001b[0m Trial 52 finished with value: 0.7615261474915349 and parameters: {'RANGE': 215, 'COEFF': 27, 'EXP': 6}. Best is trial 22 with value: 0.7617903934540191.\u001b[0m\n",
      "\u001b[32m[I 2023-11-04 13:50:10,100]\u001b[0m Trial 53 finished with value: 0.761074744591943 and parameters: {'RANGE': 336, 'COEFF': 25, 'EXP': 7}. Best is trial 22 with value: 0.7617903934540191.\u001b[0m\n",
      "\u001b[32m[I 2023-11-04 13:50:15,388]\u001b[0m Trial 54 finished with value: 0.7609809187548198 and parameters: {'RANGE': 171, 'COEFF': 30, 'EXP': 7}. Best is trial 22 with value: 0.7617903934540191.\u001b[0m\n",
      "\u001b[32m[I 2023-11-04 13:50:20,733]\u001b[0m Trial 55 finished with value: 0.7616342962155169 and parameters: {'RANGE': 289, 'COEFF': 28, 'EXP': 8}. Best is trial 22 with value: 0.7617903934540191.\u001b[0m\n",
      "\u001b[32m[I 2023-11-04 13:50:26,215]\u001b[0m Trial 56 finished with value: 0.7618298658668121 and parameters: {'RANGE': 293, 'COEFF': 29, 'EXP': 9}. Best is trial 56 with value: 0.7618298658668121.\u001b[0m\n",
      "\u001b[32m[I 2023-11-04 13:50:32,348]\u001b[0m Trial 57 finished with value: 0.7564298542984612 and parameters: {'RANGE': 750, 'COEFF': 29, 'EXP': 10}. Best is trial 56 with value: 0.7618298658668121.\u001b[0m\n",
      "\u001b[32m[I 2023-11-04 13:50:38,005]\u001b[0m Trial 58 finished with value: 0.7605150260323459 and parameters: {'RANGE': 459, 'COEFF': 30, 'EXP': 9}. Best is trial 56 with value: 0.7618298658668121.\u001b[0m\n",
      "\u001b[32m[I 2023-11-04 13:50:43,529]\u001b[0m Trial 59 finished with value: 0.7616547217322673 and parameters: {'RANGE': 316, 'COEFF': 24, 'EXP': 9}. Best is trial 56 with value: 0.7618298658668121.\u001b[0m\n"
     ]
    },
    {
     "name": "stdout",
     "output_type": "stream",
     "text": [
      "{'RANGE': 293, 'COEFF': 29, 'EXP': 9}\n"
     ]
    }
   ],
   "source": [
    "from multiprocessing import Pool\n",
    "import optuna\n",
    "\n",
    "def objective(trial):\n",
    "    global RANGE, COEFF, EXP\n",
    "    RANGE = trial.suggest_int(\"RANGE\", 100, 1000)\n",
    "    COEFF = trial.suggest_int(\"COEFF\", 1, 30)\n",
    "    EXP = trial.suggest_int(\"EXP\", 1, 10)        \n",
    "\n",
    "    groups = [group for _, group in train.groupby(\"series_id\")]\n",
    "    with Pool(30) as p:  \n",
    "        results = list(p.imap(dynamic_range_nms, groups))\n",
    "    sub = pd.concat(results)\n",
    "    sub[\"score\"] = sub[\"reduced_score\"]\n",
    "\n",
    "    # スコア計算\n",
    "    score = event_detection_ap(labels, sub)\n",
    "    return score\n",
    "\n",
    "study = optuna.create_study(direction=\"maximize\")\n",
    "study.enqueue_trial({\"RANGE\": 261, \"COEFF\": 28, \"EXP\": 5})\n",
    "study.enqueue_trial({\"RANGE\": 917, \"COEFF\": 11, \"EXP\": 5})\n",
    "study.enqueue_trial({\"RANGE\": 695, \"COEFF\": 14, \"EXP\": 3})\n",
    "study.enqueue_trial({\"RANGE\": 360, \"COEFF\": 10, \"EXP\": 2})\n",
    "study.enqueue_trial({\"RANGE\": 638, \"COEFF\": 17, \"EXP\": 3})\n",
    "study.enqueue_trial({\"RANGE\": 570, \"COEFF\": 5, \"EXP\": 3})\n",
    "study.optimize(objective, n_trials=60)\n",
    "print(study.best_params)"
   ]
  },
  {
   "cell_type": "code",
   "execution_count": null,
   "metadata": {},
   "outputs": [],
   "source": []
  },
  {
   "cell_type": "code",
   "execution_count": null,
   "metadata": {},
   "outputs": [],
   "source": []
  },
  {
   "cell_type": "code",
   "execution_count": null,
   "metadata": {},
   "outputs": [],
   "source": []
  }
 ],
 "metadata": {
  "kernelspec": {
   "display_name": "base",
   "language": "python",
   "name": "python3"
  },
  "language_info": {
   "codemirror_mode": {
    "name": "ipython",
    "version": 3
   },
   "file_extension": ".py",
   "mimetype": "text/x-python",
   "name": "python",
   "nbconvert_exporter": "python",
   "pygments_lexer": "ipython3",
   "version": "3.10.10"
  }
 },
 "nbformat": 4,
 "nbformat_minor": 2
}
