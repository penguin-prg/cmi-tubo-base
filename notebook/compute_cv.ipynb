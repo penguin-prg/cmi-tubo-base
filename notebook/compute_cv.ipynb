{
 "cells": [
  {
   "cell_type": "code",
   "execution_count": 3,
   "metadata": {},
   "outputs": [],
   "source": [
    "import numpy as np\n",
    "import pandas as pd\n",
    "\n",
    "import sys\n",
    "import os\n",
    "from tqdm import tqdm\n",
    "\n",
    "sys.path.append(\"/kaggle\")\n",
    "from src.utils.post_process import post_process_for_seg\n",
    "from src.utils.metrics import event_detection_ap"
   ]
  },
  {
   "cell_type": "code",
   "execution_count": 4,
   "metadata": {},
   "outputs": [
    {
     "name": "stderr",
     "output_type": "stream",
     "text": [
      "  0%|          | 0/5 [00:00<?, ?it/s]"
     ]
    },
    {
     "name": "stderr",
     "output_type": "stream",
     "text": [
      "100%|██████████| 5/5 [06:08<00:00, 73.71s/it]\n"
     ]
    }
   ],
   "source": [
    "exp_id = \"exp022\"\n",
    "\n",
    "sub_dfs = []\n",
    "oof_dfs = []\n",
    "for fold in tqdm(range(5)):\n",
    "    keys = np.load(f\"/kaggle/output/train/{exp_id}_fold{fold}/single/keys.npy\")\n",
    "    labels = np.load(f\"/kaggle/output/train/{exp_id}_fold{fold}/single/labels.npy\")\n",
    "    preds = np.load(f\"/kaggle/output/train/{exp_id}_fold{fold}/single/preds.npy\")\n",
    "\n",
    "    sub, oof = post_process_for_seg(\n",
    "        keys=keys,\n",
    "        preds=preds[:, :, [1, 2]],\n",
    "        score_th=0.02,\n",
    "        distance=10,\n",
    "        penguin_pp=True,\n",
    "    )\n",
    "    sub_dfs.append(sub)\n",
    "    oof_dfs += oof"
   ]
  },
  {
   "cell_type": "code",
   "execution_count": 5,
   "metadata": {},
   "outputs": [
    {
     "data": {
      "text/plain": [
       "0.7817265348459155"
      ]
     },
     "execution_count": 5,
     "metadata": {},
     "output_type": "execute_result"
    }
   ],
   "source": [
    "sub = pd.concat(sub_dfs).reset_index(drop=True)\n",
    "labels = pd.read_csv(\"/kaggle/data/train_events.csv\").dropna()\n",
    "score = event_detection_ap(labels, sub)\n",
    "score"
   ]
  },
  {
   "cell_type": "code",
   "execution_count": 6,
   "metadata": {},
   "outputs": [],
   "source": [
    "oof = pd.concat(oof_dfs).reset_index(drop=True)\n",
    "oof[[\"wakeup_oof\", \"onset_oof\"]] = oof[[\"wakeup_oof\", \"onset_oof\"]].astype(float)\n",
    "oof.to_parquet(f\"/kaggle/output/train/{exp_id}_oof.parquet\", index=False)"
   ]
  },
  {
   "cell_type": "code",
   "execution_count": null,
   "metadata": {},
   "outputs": [],
   "source": []
  },
  {
   "cell_type": "code",
   "execution_count": null,
   "metadata": {},
   "outputs": [],
   "source": []
  },
  {
   "cell_type": "code",
   "execution_count": null,
   "metadata": {},
   "outputs": [],
   "source": []
  },
  {
   "cell_type": "code",
   "execution_count": null,
   "metadata": {},
   "outputs": [],
   "source": []
  },
  {
   "cell_type": "code",
   "execution_count": null,
   "metadata": {},
   "outputs": [],
   "source": []
  },
  {
   "cell_type": "code",
   "execution_count": null,
   "metadata": {},
   "outputs": [],
   "source": []
  },
  {
   "cell_type": "code",
   "execution_count": null,
   "metadata": {},
   "outputs": [],
   "source": []
  }
 ],
 "metadata": {
  "kernelspec": {
   "display_name": "base",
   "language": "python",
   "name": "python3"
  },
  "language_info": {
   "codemirror_mode": {
    "name": "ipython",
    "version": 3
   },
   "file_extension": ".py",
   "mimetype": "text/x-python",
   "name": "python",
   "nbconvert_exporter": "python",
   "pygments_lexer": "ipython3",
   "version": "3.10.10"
  }
 },
 "nbformat": 4,
 "nbformat_minor": 2
}
